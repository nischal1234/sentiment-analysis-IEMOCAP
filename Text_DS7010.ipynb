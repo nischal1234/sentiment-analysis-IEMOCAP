{
  "nbformat": 4,
  "nbformat_minor": 0,
  "metadata": {
    "colab": {
      "provenance": [],
      "authorship_tag": "ABX9TyOIAnjl5k4hlpFaYKhbkU+o",
      "include_colab_link": true
    },
    "kernelspec": {
      "name": "python3",
      "display_name": "Python 3"
    },
    "language_info": {
      "name": "python"
    }
  },
  "cells": [
    {
      "cell_type": "markdown",
      "metadata": {
        "id": "view-in-github",
        "colab_type": "text"
      },
      "source": [
        "<a href=\"https://colab.research.google.com/github/nischal1234/DS7010final/blob/main/Text_DS7010.ipynb\" target=\"_parent\"><img src=\"https://colab.research.google.com/assets/colab-badge.svg\" alt=\"Open In Colab\"/></a>"
      ]
    },
    {
      "cell_type": "code",
      "execution_count": 1,
      "metadata": {
        "colab": {
          "base_uri": "https://localhost:8080/"
        },
        "id": "b1Q7klWTcfz0",
        "outputId": "fd50d0a3-174c-488b-8f7d-a90508f9b611"
      },
      "outputs": [
        {
          "output_type": "stream",
          "name": "stdout",
          "text": [
            "Mounted at /content/drive\n"
          ]
        }
      ],
      "source": [
        "from google.colab import drive\n",
        "drive.mount('/content/drive')"
      ]
    },
    {
      "cell_type": "markdown",
      "source": [
        "# **Text**"
      ],
      "metadata": {
        "id": "EKE3gbiCc6L2"
      }
    },
    {
      "cell_type": "code",
      "source": [
        "import pandas as pd\n",
        "import numpy as np\n",
        "import pickle\n",
        "\n",
        "import itertools\n",
        "import xgboost as xgb\n",
        "from sklearn.svm import LinearSVC\n",
        "from sklearn.naive_bayes import MultinomialNB\n",
        "from sklearn.neural_network import MLPClassifier\n",
        "from sklearn.linear_model import LogisticRegression\n",
        "from sklearn.ensemble import RandomForestClassifier\n",
        "from sklearn.model_selection import train_test_split\n",
        "from sklearn.feature_selection import SelectFromModel\n",
        "from sklearn.feature_extraction.text import CountVectorizer\n",
        "\n",
        "from sklearn.feature_extraction.text import TfidfTransformer, TfidfVectorizer\n",
        "from sklearn.metrics import confusion_matrix, f1_score, accuracy_score, precision_score, recall_score\n",
        "\n",
        "from IPython.display import display\n",
        "import matplotlib.pyplot as plt\n",
        "import seaborn as sns\n",
        "\n",
        "#################################\n",
        "#x_train = pd.read_csv('/content/drive/MyDrive/DS7010/emorec_data/s2e/audio_train.csv')\n",
        "#x_test = pd.read_csv('/content/drive/MyDrive/DS7010/emorec_data/s2e/audio_test.csv')\n",
        "#################################\n",
        "#df = pd.read_csv('/content/drive/MyDrive/DS7010/emorec_data/t2e/text_train.csv')\n",
        "#df = df.append(pd.read_csv('/content/drive/MyDrive/DS7010/emorec_data/t2e/text_test.csv'))\n",
        "#display(df.head())\n",
        "# Read train and test CSV files\n",
        "train_df = pd.read_csv('/content/drive/MyDrive/DS7010/emorec_data/t2e/text_train.csv')\n",
        "test_df = pd.read_csv('/content/drive/MyDrive/DS7010/emorec_data/t2e/text_test.csv')\n",
        "\n",
        "# Concatenate train and test data\n",
        "df = pd.concat([train_df, test_df], ignore_index=True)\n",
        "\n",
        "# Display the first few rows of the combined DataFrame\n",
        "print(df.head())"
      ],
      "metadata": {
        "colab": {
          "base_uri": "https://localhost:8080/"
        },
        "id": "YqSnhFcDc8ni",
        "outputId": "5caeb629-1dfb-4562-ddc7-0659fc8fd8b3"
      },
      "execution_count": 12,
      "outputs": [
        {
          "output_type": "stream",
          "name": "stdout",
          "text": [
            "                 wav_file  label  \\\n",
            "0     Ses02F_impro04_F012      2   \n",
            "1  Ses03F_script02_1_M030      4   \n",
            "2  Ses02F_script03_2_M015      2   \n",
            "3  Ses02F_script02_2_M025      2   \n",
            "4  Ses04M_script03_1_M021      1   \n",
            "\n",
            "                                       transcription  \n",
            "0                or they ll never talk to me again .  \n",
            "1                                         for real ?  \n",
            "2                                          nothing .  \n",
            "3                      you wanna get married again ?  \n",
            "4  let s savor the delight of the moment . come a...  \n"
          ]
        }
      ]
    },
    {
      "cell_type": "code",
      "source": [
        "df.head()"
      ],
      "metadata": {
        "colab": {
          "base_uri": "https://localhost:8080/",
          "height": 206
        },
        "id": "HjN3C2Y7fn3U",
        "outputId": "93b9702b-d56d-4a56-942b-4a5f716c3e55"
      },
      "execution_count": 14,
      "outputs": [
        {
          "output_type": "execute_result",
          "data": {
            "text/plain": [
              "                 wav_file  label  \\\n",
              "0     Ses02F_impro04_F012      2   \n",
              "1  Ses03F_script02_1_M030      4   \n",
              "2  Ses02F_script03_2_M015      2   \n",
              "3  Ses02F_script02_2_M025      2   \n",
              "4  Ses04M_script03_1_M021      1   \n",
              "\n",
              "                                       transcription  \n",
              "0                or they ll never talk to me again .  \n",
              "1                                         for real ?  \n",
              "2                                          nothing .  \n",
              "3                      you wanna get married again ?  \n",
              "4  let s savor the delight of the moment . come a...  "
            ],
            "text/html": [
              "\n",
              "  <div id=\"df-19b3c449-ec45-4bd3-be4e-101d2d4cb80a\" class=\"colab-df-container\">\n",
              "    <div>\n",
              "<style scoped>\n",
              "    .dataframe tbody tr th:only-of-type {\n",
              "        vertical-align: middle;\n",
              "    }\n",
              "\n",
              "    .dataframe tbody tr th {\n",
              "        vertical-align: top;\n",
              "    }\n",
              "\n",
              "    .dataframe thead th {\n",
              "        text-align: right;\n",
              "    }\n",
              "</style>\n",
              "<table border=\"1\" class=\"dataframe\">\n",
              "  <thead>\n",
              "    <tr style=\"text-align: right;\">\n",
              "      <th></th>\n",
              "      <th>wav_file</th>\n",
              "      <th>label</th>\n",
              "      <th>transcription</th>\n",
              "    </tr>\n",
              "  </thead>\n",
              "  <tbody>\n",
              "    <tr>\n",
              "      <th>0</th>\n",
              "      <td>Ses02F_impro04_F012</td>\n",
              "      <td>2</td>\n",
              "      <td>or they ll never talk to me again .</td>\n",
              "    </tr>\n",
              "    <tr>\n",
              "      <th>1</th>\n",
              "      <td>Ses03F_script02_1_M030</td>\n",
              "      <td>4</td>\n",
              "      <td>for real ?</td>\n",
              "    </tr>\n",
              "    <tr>\n",
              "      <th>2</th>\n",
              "      <td>Ses02F_script03_2_M015</td>\n",
              "      <td>2</td>\n",
              "      <td>nothing .</td>\n",
              "    </tr>\n",
              "    <tr>\n",
              "      <th>3</th>\n",
              "      <td>Ses02F_script02_2_M025</td>\n",
              "      <td>2</td>\n",
              "      <td>you wanna get married again ?</td>\n",
              "    </tr>\n",
              "    <tr>\n",
              "      <th>4</th>\n",
              "      <td>Ses04M_script03_1_M021</td>\n",
              "      <td>1</td>\n",
              "      <td>let s savor the delight of the moment . come a...</td>\n",
              "    </tr>\n",
              "  </tbody>\n",
              "</table>\n",
              "</div>\n",
              "    <div class=\"colab-df-buttons\">\n",
              "\n",
              "  <div class=\"colab-df-container\">\n",
              "    <button class=\"colab-df-convert\" onclick=\"convertToInteractive('df-19b3c449-ec45-4bd3-be4e-101d2d4cb80a')\"\n",
              "            title=\"Convert this dataframe to an interactive table.\"\n",
              "            style=\"display:none;\">\n",
              "\n",
              "  <svg xmlns=\"http://www.w3.org/2000/svg\" height=\"24px\" viewBox=\"0 -960 960 960\">\n",
              "    <path d=\"M120-120v-720h720v720H120Zm60-500h600v-160H180v160Zm220 220h160v-160H400v160Zm0 220h160v-160H400v160ZM180-400h160v-160H180v160Zm440 0h160v-160H620v160ZM180-180h160v-160H180v160Zm440 0h160v-160H620v160Z\"/>\n",
              "  </svg>\n",
              "    </button>\n",
              "\n",
              "  <style>\n",
              "    .colab-df-container {\n",
              "      display:flex;\n",
              "      gap: 12px;\n",
              "    }\n",
              "\n",
              "    .colab-df-convert {\n",
              "      background-color: #E8F0FE;\n",
              "      border: none;\n",
              "      border-radius: 50%;\n",
              "      cursor: pointer;\n",
              "      display: none;\n",
              "      fill: #1967D2;\n",
              "      height: 32px;\n",
              "      padding: 0 0 0 0;\n",
              "      width: 32px;\n",
              "    }\n",
              "\n",
              "    .colab-df-convert:hover {\n",
              "      background-color: #E2EBFA;\n",
              "      box-shadow: 0px 1px 2px rgba(60, 64, 67, 0.3), 0px 1px 3px 1px rgba(60, 64, 67, 0.15);\n",
              "      fill: #174EA6;\n",
              "    }\n",
              "\n",
              "    .colab-df-buttons div {\n",
              "      margin-bottom: 4px;\n",
              "    }\n",
              "\n",
              "    [theme=dark] .colab-df-convert {\n",
              "      background-color: #3B4455;\n",
              "      fill: #D2E3FC;\n",
              "    }\n",
              "\n",
              "    [theme=dark] .colab-df-convert:hover {\n",
              "      background-color: #434B5C;\n",
              "      box-shadow: 0px 1px 3px 1px rgba(0, 0, 0, 0.15);\n",
              "      filter: drop-shadow(0px 1px 2px rgba(0, 0, 0, 0.3));\n",
              "      fill: #FFFFFF;\n",
              "    }\n",
              "  </style>\n",
              "\n",
              "    <script>\n",
              "      const buttonEl =\n",
              "        document.querySelector('#df-19b3c449-ec45-4bd3-be4e-101d2d4cb80a button.colab-df-convert');\n",
              "      buttonEl.style.display =\n",
              "        google.colab.kernel.accessAllowed ? 'block' : 'none';\n",
              "\n",
              "      async function convertToInteractive(key) {\n",
              "        const element = document.querySelector('#df-19b3c449-ec45-4bd3-be4e-101d2d4cb80a');\n",
              "        const dataTable =\n",
              "          await google.colab.kernel.invokeFunction('convertToInteractive',\n",
              "                                                    [key], {});\n",
              "        if (!dataTable) return;\n",
              "\n",
              "        const docLinkHtml = 'Like what you see? Visit the ' +\n",
              "          '<a target=\"_blank\" href=https://colab.research.google.com/notebooks/data_table.ipynb>data table notebook</a>'\n",
              "          + ' to learn more about interactive tables.';\n",
              "        element.innerHTML = '';\n",
              "        dataTable['output_type'] = 'display_data';\n",
              "        await google.colab.output.renderOutput(dataTable, element);\n",
              "        const docLink = document.createElement('div');\n",
              "        docLink.innerHTML = docLinkHtml;\n",
              "        element.appendChild(docLink);\n",
              "      }\n",
              "    </script>\n",
              "  </div>\n",
              "\n",
              "\n",
              "<div id=\"df-c3cb88c8-7c3a-46da-b6ba-b9a514f4fb15\">\n",
              "  <button class=\"colab-df-quickchart\" onclick=\"quickchart('df-c3cb88c8-7c3a-46da-b6ba-b9a514f4fb15')\"\n",
              "            title=\"Suggest charts\"\n",
              "            style=\"display:none;\">\n",
              "\n",
              "<svg xmlns=\"http://www.w3.org/2000/svg\" height=\"24px\"viewBox=\"0 0 24 24\"\n",
              "     width=\"24px\">\n",
              "    <g>\n",
              "        <path d=\"M19 3H5c-1.1 0-2 .9-2 2v14c0 1.1.9 2 2 2h14c1.1 0 2-.9 2-2V5c0-1.1-.9-2-2-2zM9 17H7v-7h2v7zm4 0h-2V7h2v10zm4 0h-2v-4h2v4z\"/>\n",
              "    </g>\n",
              "</svg>\n",
              "  </button>\n",
              "\n",
              "<style>\n",
              "  .colab-df-quickchart {\n",
              "      --bg-color: #E8F0FE;\n",
              "      --fill-color: #1967D2;\n",
              "      --hover-bg-color: #E2EBFA;\n",
              "      --hover-fill-color: #174EA6;\n",
              "      --disabled-fill-color: #AAA;\n",
              "      --disabled-bg-color: #DDD;\n",
              "  }\n",
              "\n",
              "  [theme=dark] .colab-df-quickchart {\n",
              "      --bg-color: #3B4455;\n",
              "      --fill-color: #D2E3FC;\n",
              "      --hover-bg-color: #434B5C;\n",
              "      --hover-fill-color: #FFFFFF;\n",
              "      --disabled-bg-color: #3B4455;\n",
              "      --disabled-fill-color: #666;\n",
              "  }\n",
              "\n",
              "  .colab-df-quickchart {\n",
              "    background-color: var(--bg-color);\n",
              "    border: none;\n",
              "    border-radius: 50%;\n",
              "    cursor: pointer;\n",
              "    display: none;\n",
              "    fill: var(--fill-color);\n",
              "    height: 32px;\n",
              "    padding: 0;\n",
              "    width: 32px;\n",
              "  }\n",
              "\n",
              "  .colab-df-quickchart:hover {\n",
              "    background-color: var(--hover-bg-color);\n",
              "    box-shadow: 0 1px 2px rgba(60, 64, 67, 0.3), 0 1px 3px 1px rgba(60, 64, 67, 0.15);\n",
              "    fill: var(--button-hover-fill-color);\n",
              "  }\n",
              "\n",
              "  .colab-df-quickchart-complete:disabled,\n",
              "  .colab-df-quickchart-complete:disabled:hover {\n",
              "    background-color: var(--disabled-bg-color);\n",
              "    fill: var(--disabled-fill-color);\n",
              "    box-shadow: none;\n",
              "  }\n",
              "\n",
              "  .colab-df-spinner {\n",
              "    border: 2px solid var(--fill-color);\n",
              "    border-color: transparent;\n",
              "    border-bottom-color: var(--fill-color);\n",
              "    animation:\n",
              "      spin 1s steps(1) infinite;\n",
              "  }\n",
              "\n",
              "  @keyframes spin {\n",
              "    0% {\n",
              "      border-color: transparent;\n",
              "      border-bottom-color: var(--fill-color);\n",
              "      border-left-color: var(--fill-color);\n",
              "    }\n",
              "    20% {\n",
              "      border-color: transparent;\n",
              "      border-left-color: var(--fill-color);\n",
              "      border-top-color: var(--fill-color);\n",
              "    }\n",
              "    30% {\n",
              "      border-color: transparent;\n",
              "      border-left-color: var(--fill-color);\n",
              "      border-top-color: var(--fill-color);\n",
              "      border-right-color: var(--fill-color);\n",
              "    }\n",
              "    40% {\n",
              "      border-color: transparent;\n",
              "      border-right-color: var(--fill-color);\n",
              "      border-top-color: var(--fill-color);\n",
              "    }\n",
              "    60% {\n",
              "      border-color: transparent;\n",
              "      border-right-color: var(--fill-color);\n",
              "    }\n",
              "    80% {\n",
              "      border-color: transparent;\n",
              "      border-right-color: var(--fill-color);\n",
              "      border-bottom-color: var(--fill-color);\n",
              "    }\n",
              "    90% {\n",
              "      border-color: transparent;\n",
              "      border-bottom-color: var(--fill-color);\n",
              "    }\n",
              "  }\n",
              "</style>\n",
              "\n",
              "  <script>\n",
              "    async function quickchart(key) {\n",
              "      const quickchartButtonEl =\n",
              "        document.querySelector('#' + key + ' button');\n",
              "      quickchartButtonEl.disabled = true;  // To prevent multiple clicks.\n",
              "      quickchartButtonEl.classList.add('colab-df-spinner');\n",
              "      try {\n",
              "        const charts = await google.colab.kernel.invokeFunction(\n",
              "            'suggestCharts', [key], {});\n",
              "      } catch (error) {\n",
              "        console.error('Error during call to suggestCharts:', error);\n",
              "      }\n",
              "      quickchartButtonEl.classList.remove('colab-df-spinner');\n",
              "      quickchartButtonEl.classList.add('colab-df-quickchart-complete');\n",
              "    }\n",
              "    (() => {\n",
              "      let quickchartButtonEl =\n",
              "        document.querySelector('#df-c3cb88c8-7c3a-46da-b6ba-b9a514f4fb15 button');\n",
              "      quickchartButtonEl.style.display =\n",
              "        google.colab.kernel.accessAllowed ? 'block' : 'none';\n",
              "    })();\n",
              "  </script>\n",
              "</div>\n",
              "    </div>\n",
              "  </div>\n"
            ],
            "application/vnd.google.colaboratory.intrinsic+json": {
              "type": "dataframe",
              "variable_name": "df",
              "summary": "{\n  \"name\": \"df\",\n  \"rows\": 9797,\n  \"fields\": [\n    {\n      \"column\": \"wav_file\",\n      \"properties\": {\n        \"dtype\": \"string\",\n        \"num_unique_values\": 7527,\n        \"samples\": [\n          \"Ses02M_script03_1_F022\",\n          \"Ses05M_impro01_M019\",\n          \"Ses02M_impro04_M001\"\n        ],\n        \"semantic_type\": \"\",\n        \"description\": \"\"\n      }\n    },\n    {\n      \"column\": \"label\",\n      \"properties\": {\n        \"dtype\": \"number\",\n        \"std\": 1,\n        \"min\": 0,\n        \"max\": 5,\n        \"num_unique_values\": 6,\n        \"samples\": [\n          2,\n          4,\n          3\n        ],\n        \"semantic_type\": \"\",\n        \"description\": \"\"\n      }\n    },\n    {\n      \"column\": \"transcription\",\n      \"properties\": {\n        \"dtype\": \"string\",\n        \"num_unique_values\": 6155,\n        \"samples\": [\n          \"i didn t sign anything . i didn t sign anything . and you people have got to make \",\n          \"how long did that roue last ?\",\n          \"look at this all of the hairs are standing up on my arm .\"\n        ],\n        \"semantic_type\": \"\",\n        \"description\": \"\"\n      }\n    }\n  ]\n}"
            }
          },
          "metadata": {},
          "execution_count": 14
        }
      ]
    },
    {
      "cell_type": "code",
      "source": [
        "df.columns"
      ],
      "metadata": {
        "colab": {
          "base_uri": "https://localhost:8080/"
        },
        "id": "2gl6yaazfy32",
        "outputId": "7dd853cb-d60b-4529-b75b-0b867571ea0d"
      },
      "execution_count": 15,
      "outputs": [
        {
          "output_type": "execute_result",
          "data": {
            "text/plain": [
              "Index(['wav_file', 'label', 'transcription'], dtype='object')"
            ]
          },
          "metadata": {},
          "execution_count": 15
        }
      ]
    },
    {
      "cell_type": "code",
      "source": [
        "df.columns = ['wav_file','label', 'transcription']"
      ],
      "metadata": {
        "id": "1S0IAJ0dfgni"
      },
      "execution_count": 16,
      "outputs": []
    },
    {
      "cell_type": "code",
      "source": [
        "category_to_id = {'ang': 0,\n",
        "                'hap': 1,\n",
        "                'sad': 2,\n",
        "                'fea': 3,\n",
        "                'sur': 4,\n",
        "                'neu': 5}\n",
        "id_to_category = {0: 'ang', 1: 'hap', 2: 'sad', 3: 'fea', 4: 'sur', 5: 'neu'}"
      ],
      "metadata": {
        "id": "1SP4wDeMf6Mw"
      },
      "execution_count": 17,
      "outputs": []
    },
    {
      "cell_type": "code",
      "source": [
        "fig = plt.figure(figsize=(8,6))\n",
        "df.groupby('label').transcription.count().plot.bar(ylim=0)\n",
        "plt.show()"
      ],
      "metadata": {
        "colab": {
          "base_uri": "https://localhost:8080/",
          "height": 537
        },
        "id": "s98eGsvXf9zq",
        "outputId": "c6001536-a8db-47b3-b140-7c909feee6f4"
      },
      "execution_count": 18,
      "outputs": [
        {
          "output_type": "display_data",
          "data": {
            "text/plain": [
              "<Figure size 800x600 with 1 Axes>"
            ],
            "image/png": "[encoded data removed]"
          },
          "metadata": {}
        }
      ]
    },
    {
      "cell_type": "code",
      "source": [
        "tfidf = TfidfVectorizer(sublinear_tf=True, min_df=5, norm='l2', encoding='latin-1', ngram_range=(1, 2), stop_words='english')\n",
        "\n",
        "features = tfidf.fit_transform(df.transcription).toarray()\n",
        "\n",
        "labels = df.label\n",
        "print(features.shape)"
      ],
      "metadata": {
        "colab": {
          "base_uri": "https://localhost:8080/"
        },
        "id": "bvX0NjrKgBmO",
        "outputId": "70145482-9cd6-47ad-a238-6205c87109af"
      },
      "execution_count": 19,
      "outputs": [
        {
          "output_type": "stream",
          "name": "stdout",
          "text": [
            "(9797, 2464)\n"
          ]
        }
      ]
    },
    {
      "cell_type": "code",
      "source": [
        "x_train, x_test, y_train, y_test = train_test_split(features, labels, test_size=0.20)\n",
        "# count_vect = CountVectorizer()\n",
        "# x_train_counts = count_vect.fit_transform(x_train)\n",
        "# tfidf_transformer = TfidfTransformer()\n",
        "# x_train_tfidf = tfidf_transformer.fit_transform(x_train_counts)"
      ],
      "metadata": {
        "id": "pp_lAA8xgF3W"
      },
      "execution_count": 20,
      "outputs": []
    },
    {
      "cell_type": "code",
      "source": [
        "emotion_dict = {'ang': 0,\n",
        "                'hap': 1,\n",
        "                'sad': 2,\n",
        "                'fea': 3,\n",
        "                'sur': 4,\n",
        "                'neu': 5}\n",
        "\n",
        "emo_keys = list(['ang', 'hap', 'sad', 'fea', 'sur', 'neu'])\n",
        "\n",
        "def plot_confusion_matrix(cm, classes,\n",
        "                          normalize=False,\n",
        "                          title='Confusion matrix',\n",
        "                          cmap=plt.cm.Blues):\n",
        "    \"\"\"\n",
        "    This function prints and plots the confusion matrix.\n",
        "    Normalization can be applied by setting `normalize=True`.\n",
        "    \"\"\"\n",
        "    # plt.figure(figsize=(8,8))\n",
        "    plt.imshow(cm, interpolation='nearest', cmap=cmap)\n",
        "    plt.title(title)\n",
        "    plt.colorbar()\n",
        "    tick_marks = np.arange(len(classes))\n",
        "    plt.xticks(tick_marks, classes, rotation=45)\n",
        "    plt.yticks(tick_marks, classes)\n",
        "\n",
        "    if normalize:\n",
        "        cm = cm.astype('float') / cm.sum(axis=1)[:, np.newaxis]\n",
        "        print(\"Normalized confusion matrix\")\n",
        "    else:\n",
        "        print('Confusion matrix, without normalization')\n",
        "\n",
        "    print(cm)\n",
        "\n",
        "    thresh = cm.max() / 2.\n",
        "    for i, j in itertools.product(range(cm.shape[0]), range(cm.shape[1])):\n",
        "        plt.text(j, i, cm[i, j],\n",
        "                 horizontalalignment=\"center\",\n",
        "                 color=\"white\" if cm[i, j] > thresh else \"black\")\n",
        "\n",
        "    plt.tight_layout()\n",
        "    plt.ylabel('True label')\n",
        "    plt.xlabel('Predicted label')\n",
        "\n",
        "def one_hot_encoder(true_labels, num_records, num_classes):\n",
        "    temp = np.array(true_labels[:num_records])\n",
        "    true_labels = np.zeros((num_records, num_classes))\n",
        "    true_labels[np.arange(num_records), temp] = 1\n",
        "    return true_labels\n",
        "\n",
        "def display_results(y_test, pred_probs, cm=True):\n",
        "    pred = np.argmax(pred_probs, axis=-1)\n",
        "    one_hot_true = one_hot_encoder(y_test, len(pred), len(emotion_dict))\n",
        "    print('Test Set Accuracy =  {0:.3f}'.format(accuracy_score(y_test, pred)))\n",
        "    print('Test Set F-score =  {0:.3f}'.format(f1_score(y_test, pred, average='macro')))\n",
        "    print('Test Set Precision =  {0:.3f}'.format(precision_score(y_test, pred, average='macro')))\n",
        "    print('Test Set Recall =  {0:.3f}'.format(recall_score(y_test, pred, average='macro')))\n",
        "    if cm:\n",
        "        plot_confusion_matrix(confusion_matrix(y_test, pred), classes=emo_keys)"
      ],
      "metadata": {
        "id": "nsRRMIyvgMMm"
      },
      "execution_count": 21,
      "outputs": []
    },
    {
      "cell_type": "markdown",
      "source": [
        "# **RF**"
      ],
      "metadata": {
        "id": "q77ZD8O1gPtL"
      }
    },
    {
      "cell_type": "code",
      "source": [
        "rf_classifier = RandomForestClassifier(n_estimators=600, min_samples_split=25)\n",
        "rf_classifier.fit(x_train, y_train)\n",
        "\n",
        "# Predict\n",
        "pred_probs = rf_classifier.predict_proba(x_test)\n",
        "\n",
        "# Results\n",
        "display_results(y_test, pred_probs)\n",
        "\n",
        "with open('pred_probas/text_rf_classifier.pkl', 'wb') as f:\n",
        "    pickle.dump(pred_probs, f)"
      ],
      "metadata": {
        "id": "ZDv5kDokgRl6"
      },
      "execution_count": null,
      "outputs": []
    },
    {
      "cell_type": "markdown",
      "source": [
        "# **Logistic**"
      ],
      "metadata": {
        "id": "q5NV0SfdgSv8"
      }
    },
    {
      "cell_type": "code",
      "source": [],
      "metadata": {
        "id": "Btbpc-BwgZCv"
      },
      "execution_count": 21,
      "outputs": []
    },
    {
      "cell_type": "markdown",
      "source": [
        "# **Extreme Gradient Boosting**"
      ],
      "metadata": {
        "id": "fvo0YH4rggWq"
      }
    },
    {
      "cell_type": "code",
      "source": [],
      "metadata": {
        "id": "3O12Jh_5gkar"
      },
      "execution_count": null,
      "outputs": []
    },
    {
      "cell_type": "markdown",
      "source": [
        "# **MLP**"
      ],
      "metadata": {
        "id": "d3YVgGbLglbP"
      }
    },
    {
      "cell_type": "code",
      "source": [],
      "metadata": {
        "id": "VUePSSn4gsA9"
      },
      "execution_count": null,
      "outputs": []
    },
    {
      "cell_type": "markdown",
      "source": [
        "# **ensemble learning**"
      ],
      "metadata": {
        "id": "D9EjPUVxgtQc"
      }
    },
    {
      "cell_type": "code",
      "source": [],
      "metadata": {
        "id": "lepoaHbLgutO"
      },
      "execution_count": null,
      "outputs": []
    }
  ]
}